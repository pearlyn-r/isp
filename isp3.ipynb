{
  "nbformat": 4,
  "nbformat_minor": 0,
  "metadata": {
    "colab": {
      "provenance": [],
      "collapsed_sections": [],
      "authorship_tag": "ABX9TyOx7A8nF6Vc6ZXA7ccQEjem",
      "include_colab_link": true
    },
    "kernelspec": {
      "name": "python3",
      "display_name": "Python 3"
    },
    "language_info": {
      "name": "python"
    }
  },
  "cells": [
    {
      "cell_type": "markdown",
      "metadata": {
        "id": "view-in-github",
        "colab_type": "text"
      },
      "source": [
        "<a href=\"https://colab.research.google.com/github/pearlyn-r/isp/blob/main/isp3.ipynb\" target=\"_parent\"><img src=\"https://colab.research.google.com/assets/colab-badge.svg\" alt=\"Open In Colab\"/></a>"
      ]
    },
    {
      "cell_type": "code",
      "source": [
        "def encrypt():\n",
        "  mssg=str(input(\"Enter the message:\"))\n",
        "  keyword=str(input(\"Enter the keyword:\"))\n",
        "  ct=\"\"\n",
        "  all_alphabets=[]\n",
        "  for i in range(65,91):\n",
        "    all_alphabets.append(chr(i))\n",
        "  \n",
        "  msg=[]\n",
        "  for i in mssg:\n",
        "    msg.append(i.upper())\n",
        "  keyword1=keyword.upper()\n",
        "  #rremoves duplicates and default elements\n",
        "  def duplicates(list):\n",
        "    key=[]\n",
        "    for i in list:\n",
        "      if i not in key:\n",
        "        key.append(i)\n",
        "    return key\n",
        "    \n",
        "  keyword1 = duplicates(keyword1)\n",
        "\n",
        "  # Stores the encryption list\n",
        "  encrypting = duplicates(keyword1+all_alphabets)\n",
        "  \n",
        "  # removes spaces from the encryption list\n",
        "  for i in encrypting:\n",
        "      if(i == ' '):\n",
        "          encrypting.remove(' ')\n",
        "  \n",
        "  ciphertext = \"\"\n",
        "  \n",
        "  # maps each element of the message to the encryption list and stores it in ciphertext\n",
        "  for i in range(len(msg)):\n",
        "      if(msg[i] != ' '):\n",
        "          ciphertext = ciphertext+encrypting[all_alphabets.index(msg[i])]\n",
        "      else:\n",
        "          ciphertext = ciphertext+' '\n",
        "  print(ciphertext)\n",
        "encrypt()\n",
        "\n"
      ],
      "metadata": {
        "colab": {
          "base_uri": "https://localhost:8080/"
        },
        "id": "X_5pFwEvqb9Z",
        "outputId": "1f72351e-804f-43a8-996a-0fc6a3625ff0"
      },
      "execution_count": null,
      "outputs": [
        {
          "output_type": "stream",
          "name": "stdout",
          "text": [
            "Enter the messagehi brotehr\n",
            "Enter the keywordaaron\n",
            "['A', 'B', 'C', 'D', 'E', 'F', 'G', 'H', 'I', 'J', 'K', 'L', 'M', 'N', 'O', 'P', 'Q', 'R', 'S', 'T', 'U', 'V', 'W', 'X', 'Y', 'Z']\n",
            "EF RQLTBEQ\n"
          ]
        }
      ]
    },
    {
      "cell_type": "code",
      "source": [
        "def decrypt():\n",
        "  \n",
        "  cyphertext=str(input(\"Enter the text:\"))\n",
        "  keyword=str(input(\"Enter the keyword:\"))\n",
        "  \n",
        "  all_alphabets=[]\n",
        "  for i in range(65,91):\n",
        "    all_alphabets.append(chr(i))\n",
        "    \n",
        "  keyword1=keyword.upper()\n",
        "\n",
        "\n",
        "  # converts message to list\n",
        "  ct = []\n",
        "  for i in cyphertext:\n",
        "    ct.append(i.upper())\n",
        "\n",
        "  # removes default elements\n",
        "\n",
        "\n",
        "  def duplicates(list):\n",
        "    key = []\n",
        "    for i in list:\n",
        "      if i not in key:\n",
        "        key.append(i)\n",
        "\n",
        "    return key\n",
        "\n",
        "\n",
        "  keyword1 = duplicates(keyword1)\n",
        "\n",
        "  # Stores the encryption list\n",
        "  encrypting = duplicates(keyword1+all_alphabets)\n",
        "  print(encrypting)\n",
        "\n",
        "  # removes spaces from the encryption list\n",
        "  for i in encrypting:\n",
        "    if(i == ' '):\n",
        "      encrypting.remove(' ')\n",
        "\n",
        "  # maps each element of the message to the encryption list and stores it in ciphertext\n",
        "  message = \"\"\n",
        "  for i in range(len(ct)):\n",
        "    if(ct[i] != ' '):\n",
        "      message = message+all_alphabets[encrypting.index(ct[i])]\n",
        "    else:\n",
        "      message = message+' '\n",
        "\n",
        "  print(\"Keyword : \", keyword)\n",
        "  print(\"Ciphered Text : \", cyphertext)\n",
        "  print(\"Message before Ciphering : \", message)\n",
        "\n",
        "\n",
        "decrypt()"
      ],
      "metadata": {
        "colab": {
          "base_uri": "https://localhost:8080/"
        },
        "id": "ltCId5b6w1vn",
        "outputId": "f18eb6e1-4988-4ef7-cbab-13e11d47b04d"
      },
      "execution_count": null,
      "outputs": [
        {
          "output_type": "stream",
          "name": "stdout",
          "text": [
            "Enter the text:EF RQLTBEQ\n",
            "Enter the keyword:aaron\n",
            "['A', 'R', 'O', 'N', 'B', 'C', 'D', 'E', 'F', 'G', 'H', 'I', 'J', 'K', 'L', 'M', 'P', 'Q', 'S', 'T', 'U', 'V', 'W', 'X', 'Y', 'Z']\n",
            "Keyword :  aaron\n",
            "Ciphered Text :  EF RQLTBEQ\n",
            "Message before Ciphering :  HI BROTEHR\n"
          ]
        }
      ]
    },
    {
      "cell_type": "code",
      "source": [
        "  mssg=str(input(\"Enter the message\"))\n",
        "  keyword=str(input(\"Enter the keyword\"))\n",
        "  ct=\"\"\n",
        "  all_alphabets=[]\n",
        "  for i in range(65,91):\n",
        "    all_alphabets.append(chr(i))\n",
        "  print(all_alphabets)\n",
        "  msg=[]\n",
        "  for i in mssg:\n",
        "    msg.append(i.upper())\n",
        "  print(msg)\n",
        "  keyword1=keyword.upper()\n",
        "  #rremoves duplicates and default elements\n",
        "  def duplicates(list):\n",
        "    key=[]\n",
        "    for i in list:\n",
        "      if i not in key:\n",
        "        key.append(i)\n",
        "\n",
        "    \n",
        "  keyword1 = duplicates(keyword1)\n",
        "  \n",
        "  # Stores the encryption list\n",
        "  encrypting = duplicates(keyword1+all_alphabets)\n",
        "  \n",
        "  # removes spaces from the encryption list\n",
        "  for i in encrypting:\n",
        "      if(i == ' '):\n",
        "          encrypting.remove(' ')\n",
        "  \n",
        "  ciphertext = \"\"\n",
        "  \n",
        "  # maps each element of the message to the encryption list and stores it in ciphertext\n",
        "  for i in range(len(msg)):\n",
        "      if(msg[i] != ' '):\n",
        "          ciphertext = ciphertext+encrypting[all_alphabets.index(msg[i])]\n",
        "      else:\n",
        "          ciphertext = ciphertext+' '\n",
        "\n"
      ],
      "metadata": {
        "colab": {
          "base_uri": "https://localhost:8080/"
        },
        "id": "187_rrlbs-Mf",
        "outputId": "16fe897e-51de-4892-ca23-59959f75a522"
      },
      "execution_count": null,
      "outputs": [
        {
          "output_type": "stream",
          "name": "stdout",
          "text": [
            "Enter the messagehi\n",
            "Enter the keywordji\n",
            "['A', 'B', 'C', 'D', 'E', 'F', 'G', 'H', 'I', 'J', 'K', 'L', 'M', 'N', 'O', 'P', 'Q', 'R', 'S', 'T', 'U', 'V', 'W', 'X', 'Y', 'Z']\n",
            "['H', 'I']\n"
          ]
        }
      ]
    },
    {
      "cell_type": "code",
      "source": [
        " "
      ],
      "metadata": {
        "id": "ivEzPzDkulic"
      },
      "execution_count": null,
      "outputs": []
    },
    {
      "cell_type": "markdown",
      "source": [
        "Key Word cypher"
      ],
      "metadata": {
        "id": "M_ITI1YarBwB"
      }
    }
  ]
}