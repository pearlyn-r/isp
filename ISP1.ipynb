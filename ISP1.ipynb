{
  "nbformat": 4,
  "nbformat_minor": 0,
  "metadata": {
    "colab": {
      "provenance": [],
      "collapsed_sections": [],
      "authorship_tag": "ABX9TyMlGJtLVlCzJ0+GcsJEg/4R",
      "include_colab_link": true
    },
    "kernelspec": {
      "name": "python3",
      "display_name": "Python 3"
    },
    "language_info": {
      "name": "python"
    }
  },
  "cells": [
    {
      "cell_type": "markdown",
      "metadata": {
        "id": "view-in-github",
        "colab_type": "text"
      },
      "source": [
        "<a href=\"https://colab.research.google.com/github/pearlyn-r/isp/blob/main/ISP1.ipynb\" target=\"_parent\"><img src=\"https://colab.research.google.com/assets/colab-badge.svg\" alt=\"Open In Colab\"/></a>"
      ]
    },
    {
      "cell_type": "code",
      "source": [
        "a=5\n",
        "b=6\n",
        "text=\"Mba tech batch\"\n",
        "print(text)\n",
        "print(\"\")\n",
        "if a>b:\n",
        "  print(\"a is greater\")\n",
        "else:\n",
        "  print(\"B is greater\")"
      ],
      "metadata": {
        "id": "FmDaJvdBh4fn",
        "colab": {
          "base_uri": "https://localhost:8080/"
        },
        "outputId": "e03ea470-cb93-4243-a48e-85a22850cb78"
      },
      "execution_count": null,
      "outputs": [
        {
          "output_type": "stream",
          "name": "stdout",
          "text": [
            "Mba tech batch\n",
            "\n",
            "B is greater\n"
          ]
        }
      ]
    },
    {
      "cell_type": "code",
      "source": [
        "for i in range(0,5):\n",
        "  print(i)\n",
        "  print(\"Henlo\")"
      ],
      "metadata": {
        "colab": {
          "base_uri": "https://localhost:8080/"
        },
        "id": "6D0FbyDfW6js",
        "outputId": "bfc2a440-e8d7-400c-a953-9ec5d24cfdc5"
      },
      "execution_count": null,
      "outputs": [
        {
          "output_type": "stream",
          "name": "stdout",
          "text": [
            "0\n",
            "Henlo\n",
            "1\n",
            "Henlo\n",
            "2\n",
            "Henlo\n",
            "3\n",
            "Henlo\n",
            "4\n",
            "Henlo\n"
          ]
        }
      ]
    },
    {
      "cell_type": "code",
      "source": [
        "def checky():\n",
        "  num=int(input(\"Enter a number \"))\n",
        "  if num>0:\n",
        "    print(\"number is positive\")\n",
        "  elif num==0:\n",
        "    print(\"number is 0\")\n",
        "  else:\n",
        "   print(\"Number is negative\")\n",
        "\n",
        "checky()"
      ],
      "metadata": {
        "colab": {
          "base_uri": "https://localhost:8080/"
        },
        "id": "aVWSZgtpVPcc",
        "outputId": "cf4211cc-b8b0-4064-8fdf-7b40f6cc4142"
      },
      "execution_count": null,
      "outputs": [
        {
          "output_type": "stream",
          "name": "stdout",
          "text": [
            "Enter a number5\n",
            "number is positive\n"
          ]
        }
      ]
    },
    {
      "cell_type": "code",
      "source": [
        "text=\"mba tech\"\n",
        "for i in range (len(text)):\n",
        "  print((text[i]))"
      ],
      "metadata": {
        "colab": {
          "base_uri": "https://localhost:8080/"
        },
        "id": "jqxV0ZD1XrpE",
        "outputId": "8fd6053c-624e-4c28-ce6b-0904f659e518"
      },
      "execution_count": null,
      "outputs": [
        {
          "output_type": "stream",
          "name": "stdout",
          "text": [
            "m\n",
            "b\n",
            "a\n",
            " \n",
            "t\n",
            "e\n",
            "c\n",
            "h\n"
          ]
        }
      ]
    },
    {
      "cell_type": "code",
      "source": [
        "def sum(a,b):\n",
        "  total=a+b\n",
        "  print(\"inside function total \",total)\n",
        "  return total\n",
        "a=int(input(\"Enter a number \"))\n",
        "b=int(input(\"Enter another number \"))\n",
        "total=sum(a,b)\n",
        "print(\"outside the function: \",total)"
      ],
      "metadata": {
        "colab": {
          "base_uri": "https://localhost:8080/"
        },
        "id": "oMWEpktrZLqR",
        "outputId": "a5ca56cd-750e-4661-8264-04c99894befd"
      },
      "execution_count": null,
      "outputs": [
        {
          "output_type": "stream",
          "name": "stdout",
          "text": [
            "Enter a number 5\n",
            "Enter another number 43\n",
            "inside function total  48\n",
            "outside the function:  48\n"
          ]
        }
      ]
    },
    {
      "cell_type": "markdown",
      "source": [
        "# Ceaser decryption"
      ],
      "metadata": {
        "id": "ZN0AaYm3eC77"
      }
    },
    {
      "cell_type": "code",
      "source": [
        "def ceasar_cypher():\n",
        " text=str(input(\"Enter string to be encrypted \"))\n",
        " s=int(input(\"Enter the value of key \"))\n",
        " result=\"\"\n",
        " for i in range(len(text)):\n",
        "   char=text[i]\n",
        "   if (char.isupper()):\n",
        "      result += chr((ord(char) + s-65) % 26 + 65)\n",
        "   elif(char==\" \"):\n",
        "      result=result+\" \"\n",
        "   elif(char==\".\"):\n",
        "     result+=\".\"\n",
        "   elif(char==\",\"):\n",
        "     result+=\",\"\n",
        "   elif(char==\"(\"):\n",
        "     result+=\"(\"\n",
        "   elif(char==\")\"):\n",
        "     result+=\")\"\n",
        "\n",
        "   else:\n",
        "      result += chr((ord(char) + s - 97) % 26 + 97)\n",
        " print(result)   \n",
        "ceasar_cypher()"
      ],
      "metadata": {
        "colab": {
          "base_uri": "https://localhost:8080/"
        },
        "id": "7wuIjNXjbMHD",
        "outputId": "5a018177-054b-480c-8b50-e08482a2b33b"
      },
      "execution_count": null,
      "outputs": [
        {
          "output_type": "stream",
          "name": "stdout",
          "text": [
            "Enter string to be encrypted hello\n",
            "Enter the value of key 3\n",
            "khoor\n"
          ]
        }
      ]
    },
    {
      "cell_type": "markdown",
      "source": [
        "Decryption algorithm"
      ],
      "metadata": {
        "id": "6kbgSu8UlFeG"
      }
    },
    {
      "cell_type": "code",
      "source": [
        "def decryption():\n",
        "  text=str(input(\"Enter string to be decrypted \"))  \n",
        "  s=int(input(\"Enter the value of key \")) \n",
        "  result=\"\"\n",
        "  for i in range(len(text)):\n",
        "    char=text[i]\n",
        "    if (char.isupper()):\n",
        "        result += chr((ord(char) - s-65) % 26 + 65)\n",
        "    elif(char==\" \"):\n",
        "        result=result+\" \"\n",
        "    else:\n",
        "        result += chr((ord(char) - s - 97) % 26 + 97)\n",
        "  print(result)   \n",
        "decryption()\n",
        "\n"
      ],
      "metadata": {
        "colab": {
          "base_uri": "https://localhost:8080/"
        },
        "id": "30gIRMcoie98",
        "outputId": "17aa5a27-00ed-4905-aef6-f6227d2ba025"
      },
      "execution_count": null,
      "outputs": [
        {
          "output_type": "stream",
          "name": "stdout",
          "text": [
            "Enter string to be decrypted khoor\n",
            "Enter the value of key 3\n",
            "hello\n"
          ]
        }
      ]
    },
    {
      "cell_type": "code",
      "source": [
        "\n",
        "def ceasar():\n",
        "    while True:\n",
        "        desi=input(\"type encrypt/decrypt/exit :\")\n",
        "        if desi==\"encrypt\":\n",
        "           ceasar_cypher()\n",
        "          \n",
        "        elif desi==\"decrypt\":\n",
        "           decryption()\n",
        "        elif desi==\"exit\":\n",
        "          break;\n",
        "          \n",
        "        else:\n",
        "          print(\"Wrong output,try again\")\n",
        "\n",
        "ceasar()\n",
        "print(\"thankyou\")"
      ],
      "metadata": {
        "colab": {
          "base_uri": "https://localhost:8080/"
        },
        "id": "f285dePDmJ_o",
        "outputId": "5c3462f6-fb24-4398-e6ce-09d6b138f485"
      },
      "execution_count": null,
      "outputs": [
        {
          "output_type": "stream",
          "name": "stdout",
          "text": [
            "type encrypt/decrypt/exit :decrypt\n",
            "Enter string to be decrypted e\n",
            "Enter the value of key 2\n",
            "c\n",
            "type encrypt/decrypt/exit :encrypt\n",
            "Enter string to be encrypted i love you\n",
            "Enter the value of key 4\n",
            "mrpszircsy\n",
            "type encrypt/decrypt/exit :decrypt\n",
            "Enter string to be decrypted mrpszircsy\n",
            "Enter the value of key 4\n",
            "inlovenyou\n",
            "type encrypt/decrypt/exit :exit\n",
            "thankyou\n"
          ]
        }
      ]
    }
  ]
}