{
  "nbformat": 4,
  "nbformat_minor": 0,
  "metadata": {
    "colab": {
      "provenance": [],
      "collapsed_sections": [],
      "authorship_tag": "ABX9TyNgv1j5XNJmD4fKwNcqF4MI",
      "include_colab_link": true
    },
    "kernelspec": {
      "name": "python3",
      "display_name": "Python 3"
    },
    "language_info": {
      "name": "python"
    }
  },
  "cells": [
    {
      "cell_type": "markdown",
      "metadata": {
        "id": "view-in-github",
        "colab_type": "text"
      },
      "source": [
        "<a href=\"https://colab.research.google.com/github/pearlyn-r/isp/blob/main/isp6.ipynb\" target=\"_parent\"><img src=\"https://colab.research.google.com/assets/colab-badge.svg\" alt=\"Open In Colab\"/></a>"
      ]
    },
    {
      "cell_type": "code",
      "execution_count": null,
      "metadata": {
        "colab": {
          "base_uri": "https://localhost:8080/"
        },
        "id": "sUVdivVCz3Nv",
        "outputId": "f88070a7-5638-4406-aab4-0a83d3a77ae2"
      },
      "outputs": [
        {
          "name": "stdout",
          "output_type": "stream",
          "text": [
            "both parties agree to a single prime number\n",
            "enter the prime number to be considered: 31\n",
            "both must agree with single primitive root to use \n",
            "Enter the primitve root: 11\n"
          ]
        }
      ],
      "source": [
        "print(\"both parties agree to a single prime number\")\n",
        "prime=int((input(\"enter the prime number to be considered: \")))\n",
        "#Primitive root to be use us\n",
        "print('both must agree with single primitive root to use ')\n",
        "root=int(input('Enter the primitve root: '))"
      ]
    },
    {
      "cell_type": "markdown",
      "source": [
        "Diffie hellman "
      ],
      "metadata": {
        "id": "DXjMYKA22wec"
      }
    },
    {
      "cell_type": "code",
      "source": [
        "#party1 chooses a secret number\n",
        "alicesecret=int(input(\"Enter a secret number for Party1\"))\n",
        "#party2 chooses a secret number(bs)\n",
        "bobsecret=int(input(\"Enter a secret number for party2\"))\n",
        "print(\"\\n\")\n"
      ],
      "metadata": {
        "colab": {
          "base_uri": "https://localhost:8080/"
        },
        "id": "grO1ebXw55Cr",
        "outputId": "2119b1b3-77f1-48dd-ebf4-4d6d2fdc6915"
      },
      "execution_count": null,
      "outputs": [
        {
          "output_type": "stream",
          "name": "stdout",
          "text": [
            "Enter a secret number for Party198\n",
            "Enter a secret number for party260\n",
            "\n",
            "\n"
          ]
        }
      ]
    },
    {
      "cell_type": "code",
      "source": [
        "print(\"Partys public key ->A = root^allicesecre*mod(prime)\")\n",
        "alicepublic=(root**alicesecret)%prime\n",
        "print('Party1 public key is:',alicepublic,\"\\n\")\n",
        "#party2 public key B=(root^bobsecret)*mod(prime)\n",
        "print('party2 public key B=(root^bobsecret)*mod(prime))')\n",
        "bobpublic=(root**bobsecret)%prime\n",
        "print('Party2 public key is:',bobpublic,\"\\n\")\n"
      ],
      "metadata": {
        "colab": {
          "base_uri": "https://localhost:8080/"
        },
        "id": "Wd9z6qLk6hck",
        "outputId": "800a6f23-6fe2-439a-bd31-c8f5e7d834e1"
      },
      "execution_count": null,
      "outputs": [
        {
          "output_type": "stream",
          "name": "stdout",
          "text": [
            "Partys public key ->A = root^allicesecre*mod(prime)\n",
            "Party1 public key is: 19 \n",
            "\n",
            "party2 public key B=(root^bobsecret)*mod(prime))\n",
            "Party2 public key is: 1 \n",
            "\n"
          ]
        }
      ]
    },
    {
      "cell_type": "code",
      "source": [
        "print(\"party1 calculates the share key as K=B^alicesecret*mod(prime)\")\n",
        "alicekey=(bobpublic**alicesecret)%prime\n",
        "print(\"party1 calculates the shared and results: \",alicekey,\"\\n\")"
      ],
      "metadata": {
        "colab": {
          "base_uri": "https://localhost:8080/"
        },
        "id": "ePM1B67D8E5Y",
        "outputId": "f5809275-7a2c-4ed0-99d6-8dc36fb674e0"
      },
      "execution_count": null,
      "outputs": [
        {
          "output_type": "stream",
          "name": "stdout",
          "text": [
            "party1 calculates the share key as K=B^alicesecret*mod(prime)\n",
            "party1 calculates the shared and results:  1 \n",
            "\n"
          ]
        }
      ]
    },
    {
      "cell_type": "code",
      "source": [
        "print(\"party2 calculates the share key as K=B^alicesecret*mod(prime)\")\n",
        "bobkey=(alicepublic**bobsecret)%prime\n",
        "print(\"party2 calculates the shared and results: \",bobkey,\"\\n\")"
      ],
      "metadata": {
        "colab": {
          "base_uri": "https://localhost:8080/"
        },
        "id": "izFiyPfH8r_b",
        "outputId": "b0c0de75-cb5d-4e02-bda2-a76d710112b1"
      },
      "execution_count": null,
      "outputs": [
        {
          "output_type": "stream",
          "name": "stdout",
          "text": [
            "party2 calculates the share key as K=B^alicesecret*mod(prime)\n",
            "party2 calculates the shared and results:  1 \n",
            "\n"
          ]
        }
      ]
    },
    {
      "cell_type": "code",
      "source": [
        "print('attacker doesnt know the shared and private key that party1 and party2 can now use')"
      ],
      "metadata": {
        "id": "3oJV7K_v86OC"
      },
      "execution_count": null,
      "outputs": []
    }
  ]
}