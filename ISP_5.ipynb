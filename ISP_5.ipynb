{
  "nbformat": 4,
  "nbformat_minor": 0,
  "metadata": {
    "colab": {
      "provenance": [],
      "authorship_tag": "ABX9TyOgkvI9XxRwPxtsdryAM5VY",
      "include_colab_link": true
    },
    "kernelspec": {
      "name": "python3",
      "display_name": "Python 3"
    },
    "language_info": {
      "name": "python"
    }
  },
  "cells": [
    {
      "cell_type": "markdown",
      "metadata": {
        "id": "view-in-github",
        "colab_type": "text"
      },
      "source": [
        "<a href=\"https://colab.research.google.com/github/pearlyn-r/isp/blob/main/ISP_5.ipynb\" target=\"_parent\"><img src=\"https://colab.research.google.com/assets/colab-badge.svg\" alt=\"Open In Colab\"/></a>"
      ]
    },
    {
      "cell_type": "code",
      "execution_count": null,
      "metadata": {
        "colab": {
          "base_uri": "https://localhost:8080/"
        },
        "id": "VxDCwmkljt5m",
        "outputId": "49423dae-c4a2-437a-f53f-12d678989a0e"
      },
      "outputs": [
        {
          "output_type": "stream",
          "name": "stdout",
          "text": [
            "AARON\n",
            "MEW\n",
            "Ciphertext : MENAR\n",
            "Original/Decrypted Text : AARON\n"
          ]
        }
      ],
      "source": [
        "\n",
        "def generateKey(string, key):\n",
        "\tkey = list(key)\n",
        "\tif len(string) == len(key):\n",
        "\t\treturn(key)\n",
        "\telse:\n",
        "\t\tfor i in range(len(string) -\n",
        "\t\t\t\t\tlen(key)):\n",
        "\t\t\tkey.append(key[i % len(key)])\n",
        "\treturn(\"\" . join(key))\n",
        "\t\n",
        "# This function returns the\n",
        "# encrypted text generated\n",
        "# with the help of the key\n",
        "def cipherText(string, key):\n",
        "\tcipher_text = []\n",
        "\tfor i in range(len(string)):\n",
        "\t\tx = (ord(string[i]) +\n",
        "\t\t\tord(key[i])) % 26\n",
        "\t\tx += ord('A')\n",
        "\t\tcipher_text.append(chr(x))\n",
        "\treturn(\"\" . join(cipher_text))\n",
        "\t\n",
        "# This function decrypts the\n",
        "# encrypted text and returns\n",
        "# the original text\n",
        "def originalText(cipher_text, key):\n",
        "\torig_text = []\n",
        "\tfor i in range(len(cipher_text)):\n",
        "\t\tx = (ord(cipher_text[i]) -ord(key[i]) + 26) % 26\n",
        "\t\tx += ord('A')\n",
        "\t\torig_text.append(chr(x))\n",
        "\treturn(\"\" . join(orig_text))\n",
        "string = input()\n",
        "keyword = input()\n",
        "key = generateKey(string, keyword)\n",
        "cipher_text = cipherText(string,key)\n",
        "print(\"Ciphertext :\", cipher_text)\n",
        "print(\"Original/Decrypted Text :\",originalText(cipher_text, key))\n"
      ]
    },
    {
      "cell_type": "code",
      "source": [
        "# This function returns the\n",
        "# encrypted text generated\n",
        "# with the help of the key\n",
        "def cipherText(string, key):\n",
        "\tcipher_text = []\n",
        "\tfor i in range(len(string)):\n",
        "\t\tx = (ord(string[i]) +\n",
        "\t\t\tord(key[i])) % 26\n",
        "\t\tx += ord('A')\n",
        "\t\tcipher_text.append(chr(x))\n",
        "\treturn(\"\" . join(cipher_text))"
      ],
      "metadata": {
        "id": "Y0g422Ng22Y7"
      },
      "execution_count": null,
      "outputs": []
    },
    {
      "cell_type": "code",
      "source": [
        "\n",
        "# This function decrypts the\n",
        "# encrypted text and returns\n",
        "# the original text\n",
        "def originalText(cipher_text, key):\n",
        "\torig_text = []\n",
        "\tfor i in range(len(cipher_text)):\n",
        "\t\tx = (ord(cipher_text[i]) -ord(key[i]) + 26) % 26\n",
        "\t\tx += ord('A')\n",
        "\t\torig_text.append(chr(x))\n",
        "\treturn(\"\" . join(orig_text))\n",
        "string = input()\n",
        "keyword = input()\n",
        "key = generateKey(string, keyword)\n",
        "cipher_text = cipherText(string,key)"
      ],
      "metadata": {
        "id": "tF0DvoOrtG2C"
      },
      "execution_count": null,
      "outputs": []
    }
  ]
}