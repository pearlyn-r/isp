{
  "cells": [
    {
      "cell_type": "markdown",
      "metadata": {
        "id": "view-in-github",
        "colab_type": "text"
      },
      "source": [
        "<a href=\"https://colab.research.google.com/github/pearlyn-r/isp/blob/main/ISP2.ipynb\" target=\"_parent\"><img src=\"https://colab.research.google.com/assets/colab-badge.svg\" alt=\"Open In Colab\"/></a>"
      ]
    },
    {
      "cell_type": "code",
      "execution_count": null,
      "metadata": {
        "id": "qbb-T0d4ks-L"
      },
      "outputs": [],
      "source": [
        "def encryption():\n",
        "      #getting inputs\n",
        "    plain_text=input(\"Enter the message: \")\n",
        "    key=input(\"Enter the one time pad: \")\n",
        "    cipher_text=''\n",
        "    #data clean-replacing space and converting to lower\n",
        "    plain_text=plain_text.replace(\" \",\"\")\n",
        "    plain_text=plain_text.lower()\n",
        "    key=key.lower()\n",
        "    #checking if lengths are equal\n",
        "    if(len(plain_text)!=len(key)):\n",
        "      print(\"lenghts are different\")\n",
        "    else:\n",
        "      print(\"Lengths are equal\")\n",
        "    for i in range(len(plain_text)):\n",
        "      k1=ord(plain_text[i])-97\n",
        "      k2=ord(key[i])-97\n",
        "      s=chr((k1+k2)%26+97)\n",
        "      cipher_text+=s\n",
        "\n",
        "    print(\"encrypted message is\",cipher_text)\n"
      ]
    },
    {
      "cell_type": "code",
      "execution_count": null,
      "metadata": {
        "id": "MFnP7YasrxbG"
      },
      "outputs": [],
      "source": [
        "def decryption():\n",
        "    plain_text=input(\"Enter the message: \")\n",
        "    key=input(\"Enter the one time pad: \")\n",
        "    cipher_text=''\n",
        "    #data clean-replacing space and converting to lower\n",
        "    plain_text=plain_text.replace(\" \",\"\")\n",
        "    plain_text=plain_text.lower()\n",
        "    key=key.lower()\n",
        "    #checking if lengths are equal\n",
        "    if(len(plain_text)!=len(key)):\n",
        "      print(\"lenghts are different\")\n",
        "    else:\n",
        "      print(\"Lengths are equal\")\n",
        "    for i in range(len(plain_text)):\n",
        "      k1=ord(plain_text[i])-97\n",
        "      k2=ord(key[i])-97\n",
        "      s=chr((k1-k2)%26+97)\n",
        "      cipher_text+=s\n",
        "\n",
        "    print(\"decrypted message is\",cipher_text)"
      ]
    },
    {
      "cell_type": "code",
      "execution_count": null,
      "metadata": {
        "colab": {
          "background_save": true,
          "base_uri": "https://localhost:8080/"
        },
        "id": "dnDSwt2gujFw",
        "outputId": "fde99aa2-32f4-4fcf-8c03-4fa64fcc8d7d"
      },
      "outputs": [
        {
          "name": "stdout",
          "output_type": "stream",
          "text": [
            "Wrong output,try again\n",
            "Lengths are equal\n",
            "encrypted message is sbowv\n",
            "Lengths are equal\n",
            "decrypted message is abzxy\n"
          ]
        }
      ],
      "source": [
        "def vernam():\n",
        "    while True:\n",
        "        desi=input(\"type encrypt/decrypt/exit :\")\n",
        "        if desi==\"encrypt\":\n",
        "           encryption()     \n",
        "        elif desi==\"decrypt\":\n",
        "           decryption()\n",
        "        elif desi==\"exit\":\n",
        "          break;\n",
        "          \n",
        "        else:\n",
        "          print(\"Wrong output,try again\")\n",
        "\n",
        "vernam()\n",
        "print(\"thankyou\")"
      ]
    },
    {
      "cell_type": "markdown",
      "metadata": {
        "id": "hch0YuVukt46"
      },
      "source": [
        "Vernam cypher"
      ]
    }
  ],
  "metadata": {
    "colab": {
      "collapsed_sections": [],
      "provenance": [],
      "toc_visible": true,
      "authorship_tag": "ABX9TyOLhkjm91ftFpwQ56IypzRD",
      "include_colab_link": true
    },
    "kernelspec": {
      "display_name": "Python 3",
      "name": "python3"
    },
    "language_info": {
      "name": "python"
    }
  },
  "nbformat": 4,
  "nbformat_minor": 0
}